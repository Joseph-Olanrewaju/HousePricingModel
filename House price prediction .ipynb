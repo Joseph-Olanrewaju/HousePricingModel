{
 "cells": [
  {
   "cell_type": "markdown",
   "id": "f14a841d",
   "metadata": {},
   "source": [
    "# OlacomTech Ng. \n",
    "\n",
    "### ProjectLab - Housing_Price_Prediction\n",
    "Data Scientist - Joseph Olanrewaju | JolanAnalytics"
   ]
  },
  {
   "cell_type": "code",
   "execution_count": 2,
   "id": "830c1831",
   "metadata": {},
   "outputs": [],
   "source": [
    "import pandas as pd \n",
    "import numpy as np \n",
    "import matplotlib.pyplot as plt \n",
    "import plotly.express as px \n",
    "from sklearn.metrics import mean_absolute_error\n",
    "from sklearn.preprocessing import OneHotEncoder\n",
    "from sklearn.impute import SimpleImputer\n",
    "from sklearn.linear_model import LinearRegression, Ridge\n",
    "from sklearn.pipeline import make_pipeline\n",
    "from ipywidgets import  IntSlider, interact"
   ]
  },
  {
   "cell_type": "code",
   "execution_count": 3,
   "id": "330bd3df",
   "metadata": {},
   "outputs": [
    {
     "name": "stdout",
     "output_type": "stream",
     "text": [
      "df shape: (50000, 6)\n",
      "   SquareFeet  Bedrooms  Bathrooms Neighborhood  YearBuilt          Price\n",
      "0        2126         4          1        Rural       1969  215355.283618\n",
      "1        2459         3          2        Rural       1980  195014.221626\n",
      "2        1860         2          1       Suburb       1970  306891.012076\n",
      "3        2294         2          1        Urban       1996  206786.787153\n",
      "4        2130         5          2       Suburb       2001  272436.239065\n",
      "5        2095         2          3       Suburb       2020  198208.803907\n",
      "6        2724         2          1       Suburb       1993  343429.319110\n",
      "7        2044         4          3        Rural       1957  184992.321268\n",
      "8        2638         4          3        Urban       1959  377998.588152\n",
      "9        1121         5          2        Urban       2004   95961.926014\n"
     ]
    }
   ],
   "source": [
    "#Read file into DataFrame and view. \n",
    "\n",
    "df = pd.read_csv(\"Desktop/OlacomTech Ng/Data Science Department/Housing Price Prediction Data/housing_price_dataset.csv\")\n",
    "print(\"df shape:\", df.shape)\n",
    "print(df.head(10))"
   ]
  },
  {
   "cell_type": "code",
   "execution_count": 4,
   "id": "c28e306a",
   "metadata": {},
   "outputs": [
    {
     "name": "stdout",
     "output_type": "stream",
     "text": [
      "<class 'pandas.core.frame.DataFrame'>\n",
      "RangeIndex: 50000 entries, 0 to 49999\n",
      "Data columns (total 6 columns):\n",
      " #   Column        Non-Null Count  Dtype  \n",
      "---  ------        --------------  -----  \n",
      " 0   SquareFeet    50000 non-null  int64  \n",
      " 1   Bedrooms      50000 non-null  int64  \n",
      " 2   Bathrooms     50000 non-null  int64  \n",
      " 3   Neighborhood  50000 non-null  object \n",
      " 4   YearBuilt     50000 non-null  int64  \n",
      " 5   Price         50000 non-null  float64\n",
      "dtypes: float64(1), int64(4), object(1)\n",
      "memory usage: 2.3+ MB\n"
     ]
    }
   ],
   "source": [
    "#Explore the df info \n",
    "df.info()"
   ]
  },
  {
   "cell_type": "code",
   "execution_count": 5,
   "id": "f8a57b8c",
   "metadata": {},
   "outputs": [
    {
     "data": {
      "text/plain": [
       "0    215355.283618\n",
       "1    195014.221626\n",
       "2    306891.012076\n",
       "3    206786.787153\n",
       "4    272436.239065\n",
       "Name: Price, dtype: float64"
      ]
     },
     "execution_count": 5,
     "metadata": {},
     "output_type": "execute_result"
    }
   ],
   "source": [
    "# Check price decimal places \n",
    "df[\"Price\"].head()"
   ]
  },
  {
   "cell_type": "code",
   "execution_count": 6,
   "id": "172bd5ff",
   "metadata": {},
   "outputs": [
    {
     "data": {
      "text/plain": [
       "0    215355.28\n",
       "1    195014.22\n",
       "2    306891.01\n",
       "3    206786.79\n",
       "4    272436.24\n",
       "Name: Price, dtype: float64"
      ]
     },
     "execution_count": 6,
     "metadata": {},
     "output_type": "execute_result"
    }
   ],
   "source": [
    "#Round the \"Price\" to 2dp for easy reading \n",
    "df[\"Price\"].round(2).head()"
   ]
  },
  {
   "cell_type": "markdown",
   "id": "62c09436",
   "metadata": {},
   "source": [
    "# Data Wrangling "
   ]
  },
  {
   "cell_type": "code",
   "execution_count": 8,
   "id": "cc0b2df1",
   "metadata": {},
   "outputs": [
    {
     "data": {
      "text/plain": [
       "SquareFeet      0.0\n",
       "Bedrooms        0.0\n",
       "Bathrooms       0.0\n",
       "Neighborhood    0.0\n",
       "YearBuilt       0.0\n",
       "Price           0.0\n",
       "dtype: float64"
      ]
     },
     "execution_count": 8,
     "metadata": {},
     "output_type": "execute_result"
    }
   ],
   "source": [
    "#Checking for miss values \n",
    "df.isnull().sum() / len(df)"
   ]
  },
  {
   "cell_type": "code",
   "execution_count": 9,
   "id": "5628cfb7",
   "metadata": {},
   "outputs": [
    {
     "data": {
      "text/html": [
       "<div>\n",
       "<style scoped>\n",
       "    .dataframe tbody tr th:only-of-type {\n",
       "        vertical-align: middle;\n",
       "    }\n",
       "\n",
       "    .dataframe tbody tr th {\n",
       "        vertical-align: top;\n",
       "    }\n",
       "\n",
       "    .dataframe thead th {\n",
       "        text-align: right;\n",
       "    }\n",
       "</style>\n",
       "<table border=\"1\" class=\"dataframe\">\n",
       "  <thead>\n",
       "    <tr style=\"text-align: right;\">\n",
       "      <th></th>\n",
       "      <th>SquareFeet</th>\n",
       "      <th>Bedrooms</th>\n",
       "      <th>Bathrooms</th>\n",
       "      <th>Neighborhood</th>\n",
       "      <th>YearBuilt</th>\n",
       "      <th>Price</th>\n",
       "    </tr>\n",
       "  </thead>\n",
       "  <tbody>\n",
       "    <tr>\n",
       "      <th>0</th>\n",
       "      <td>2126</td>\n",
       "      <td>4</td>\n",
       "      <td>1</td>\n",
       "      <td>Rural</td>\n",
       "      <td>1969</td>\n",
       "      <td>215355.28</td>\n",
       "    </tr>\n",
       "    <tr>\n",
       "      <th>1</th>\n",
       "      <td>2459</td>\n",
       "      <td>3</td>\n",
       "      <td>2</td>\n",
       "      <td>Rural</td>\n",
       "      <td>1980</td>\n",
       "      <td>195014.22</td>\n",
       "    </tr>\n",
       "    <tr>\n",
       "      <th>2</th>\n",
       "      <td>1860</td>\n",
       "      <td>2</td>\n",
       "      <td>1</td>\n",
       "      <td>Suburb</td>\n",
       "      <td>1970</td>\n",
       "      <td>306891.01</td>\n",
       "    </tr>\n",
       "    <tr>\n",
       "      <th>3</th>\n",
       "      <td>2294</td>\n",
       "      <td>2</td>\n",
       "      <td>1</td>\n",
       "      <td>Urban</td>\n",
       "      <td>1996</td>\n",
       "      <td>206786.79</td>\n",
       "    </tr>\n",
       "    <tr>\n",
       "      <th>4</th>\n",
       "      <td>2130</td>\n",
       "      <td>5</td>\n",
       "      <td>2</td>\n",
       "      <td>Suburb</td>\n",
       "      <td>2001</td>\n",
       "      <td>272436.24</td>\n",
       "    </tr>\n",
       "  </tbody>\n",
       "</table>\n",
       "</div>"
      ],
      "text/plain": [
       "   SquareFeet  Bedrooms  Bathrooms Neighborhood  YearBuilt      Price\n",
       "0        2126         4          1        Rural       1969  215355.28\n",
       "1        2459         3          2        Rural       1980  195014.22\n",
       "2        1860         2          1       Suburb       1970  306891.01\n",
       "3        2294         2          1        Urban       1996  206786.79\n",
       "4        2130         5          2       Suburb       2001  272436.24"
      ]
     },
     "execution_count": 9,
     "metadata": {},
     "output_type": "execute_result"
    }
   ],
   "source": [
    "# Data Wrangling (Iterating)\n",
    "df[\"Price\"] = df[\"Price\"].round(2)\n",
    "df.head()"
   ]
  },
  {
   "cell_type": "code",
   "execution_count": 10,
   "id": "e152ec75",
   "metadata": {},
   "outputs": [
    {
     "name": "stdout",
     "output_type": "stream",
     "text": [
      "['Rural' 'Suburb' 'Urban']\n",
      "0     Rural\n",
      "1     Rural\n",
      "2    Suburb\n",
      "3     Urban\n",
      "4    Suburb\n",
      "Name: Neighborhood, dtype: object\n"
     ]
    },
    {
     "data": {
      "text/html": [
       "<div>\n",
       "<style scoped>\n",
       "    .dataframe tbody tr th:only-of-type {\n",
       "        vertical-align: middle;\n",
       "    }\n",
       "\n",
       "    .dataframe tbody tr th {\n",
       "        vertical-align: top;\n",
       "    }\n",
       "\n",
       "    .dataframe thead th {\n",
       "        text-align: right;\n",
       "    }\n",
       "</style>\n",
       "<table border=\"1\" class=\"dataframe\">\n",
       "  <thead>\n",
       "    <tr style=\"text-align: right;\">\n",
       "      <th></th>\n",
       "      <th>SquareFeet</th>\n",
       "      <th>YearBuilt</th>\n",
       "      <th>Price</th>\n",
       "    </tr>\n",
       "  </thead>\n",
       "  <tbody>\n",
       "    <tr>\n",
       "      <th>0</th>\n",
       "      <td>2126</td>\n",
       "      <td>1969</td>\n",
       "      <td>215355.28</td>\n",
       "    </tr>\n",
       "    <tr>\n",
       "      <th>1</th>\n",
       "      <td>2459</td>\n",
       "      <td>1980</td>\n",
       "      <td>195014.22</td>\n",
       "    </tr>\n",
       "    <tr>\n",
       "      <th>2</th>\n",
       "      <td>1860</td>\n",
       "      <td>1970</td>\n",
       "      <td>306891.01</td>\n",
       "    </tr>\n",
       "    <tr>\n",
       "      <th>3</th>\n",
       "      <td>2294</td>\n",
       "      <td>1996</td>\n",
       "      <td>206786.79</td>\n",
       "    </tr>\n",
       "    <tr>\n",
       "      <th>4</th>\n",
       "      <td>2130</td>\n",
       "      <td>2001</td>\n",
       "      <td>272436.24</td>\n",
       "    </tr>\n",
       "  </tbody>\n",
       "</table>\n",
       "</div>"
      ],
      "text/plain": [
       "   SquareFeet  YearBuilt      Price\n",
       "0        2126       1969  215355.28\n",
       "1        2459       1980  195014.22\n",
       "2        1860       1970  306891.01\n",
       "3        2294       1996  206786.79\n",
       "4        2130       2001  272436.24"
      ]
     },
     "execution_count": 10,
     "metadata": {},
     "output_type": "execute_result"
    }
   ],
   "source": [
    "#Dropping \"Low & High\" Cardinality \n",
    "print(df[\"Neighborhood\"].unique())\n",
    "print(df['Neighborhood'].head())\n",
    "df.drop(columns = [\"Neighborhood\", \"Bedrooms\", \"Bathrooms\"], inplace=True)\n",
    "df.head()"
   ]
  },
  {
   "cell_type": "raw",
   "id": "affa8788",
   "metadata": {},
   "source": [
    "I decided not to drop \"YearBuilt\" as it is expected to affect the price of any house as the year goes by; \n",
    "By implication a house of 2459 SquareFeet by size Built in 2010,  should cost more than the same house Built in 1980.  \n"
   ]
  },
  {
   "cell_type": "markdown",
   "id": "e672b8d7",
   "metadata": {},
   "source": [
    "# Explore "
   ]
  },
  {
   "cell_type": "code",
   "execution_count": 12,
   "id": "57805400",
   "metadata": {},
   "outputs": [
    {
     "data": {
      "image/png": "[encoded data removed]",
      "text/plain": [
       "<Figure size 640x480 with 1 Axes>"
      ]
     },
     "metadata": {},
     "output_type": "display_data"
    }
   ],
   "source": [
    "# Build histogram\n",
    "plt.hist(df[\"Price\"]);\n",
    "# Label axes\n",
    "plt.xlabel(\"Price [$]\");\n",
    "plt.ylabel(\"Count\");\n",
    "# Add title\n",
    "plt.title(\"Distribution of Housing Prices\");\n"
   ]
  },
  {
   "cell_type": "code",
   "execution_count": 13,
   "id": "7289f264",
   "metadata": {},
   "outputs": [
    {
     "data": {
      "image/png": "[encoded data removed]",
      "text/plain": [
       "<Figure size 640x480 with 1 Axes>"
      ]
     },
     "metadata": {},
     "output_type": "display_data"
    }
   ],
   "source": [
    "# Plot scatter SquareFeet and Price\n",
    "plt.scatter(x=df['SquareFeet'], y=df['Price'])\n",
    "plt.xlabel(\"Price [$]\")\n",
    "plt.ylabel(\"Area [sq meters]\")\n",
    "plt.title(\"Housing Price: Price Vs. SquareFeet\"); "
   ]
  },
  {
   "cell_type": "markdown",
   "id": "58ddea39",
   "metadata": {},
   "source": [
    "# Split "
   ]
  },
  {
   "cell_type": "code",
   "execution_count": 15,
   "id": "286ae3c2",
   "metadata": {},
   "outputs": [],
   "source": [
    "\n",
    "feature = [\"SquareFeet\", \"YearBuilt\"]\n",
    "X_train = df[feature]\n",
    "target = \"Price\"\n",
    "y_train = df[target]"
   ]
  },
  {
   "cell_type": "markdown",
   "id": "354bdb8f",
   "metadata": {},
   "source": [
    "## Model Building "
   ]
  },
  {
   "cell_type": "markdown",
   "id": "2143690b",
   "metadata": {},
   "source": [
    "### Baseline"
   ]
  },
  {
   "cell_type": "code",
   "execution_count": 18,
   "id": "c1e3575b",
   "metadata": {},
   "outputs": [
    {
     "name": "stdout",
     "output_type": "stream",
     "text": [
      "Mean apt price: 224827.33\n",
      "Baseline MAE: 62179.68\n"
     ]
    }
   ],
   "source": [
    "y_mean = y_train.mean()\n",
    "y_pred_baseline = [y_mean] * len(y_train)\n",
    "baseline_mae = mean_absolute_error(y_train, y_pred_baseline)\n",
    "print(\"Mean apt price:\", y_mean.round(2))\n",
    "print(\"Baseline MAE:\", round(baseline_mae, 2))"
   ]
  },
  {
   "cell_type": "markdown",
   "id": "840023d9",
   "metadata": {},
   "source": [
    "### Iterate "
   ]
  },
  {
   "cell_type": "code",
   "execution_count": 20,
   "id": "ca96b145",
   "metadata": {},
   "outputs": [
    {
     "data": {
      "text/html": [
       "<style>#sk-container-id-1 {color: black;}#sk-container-id-1 pre{padding: 0;}#sk-container-id-1 div.sk-toggleable {background-color: white;}#sk-container-id-1 label.sk-toggleable__label {cursor: pointer;display: block;width: 100%;margin-bottom: 0;padding: 0.3em;box-sizing: border-box;text-align: center;}#sk-container-id-1 label.sk-toggleable__label-arrow:before {content: \"▸\";float: left;margin-right: 0.25em;color: #696969;}#sk-container-id-1 label.sk-toggleable__label-arrow:hover:before {color: black;}#sk-container-id-1 div.sk-estimator:hover label.sk-toggleable__label-arrow:before {color: black;}#sk-container-id-1 div.sk-toggleable__content {max-height: 0;max-width: 0;overflow: hidden;text-align: left;background-color: #f0f8ff;}#sk-container-id-1 div.sk-toggleable__content pre {margin: 0.2em;color: black;border-radius: 0.25em;background-color: #f0f8ff;}#sk-container-id-1 input.sk-toggleable__control:checked~div.sk-toggleable__content {max-height: 200px;max-width: 100%;overflow: auto;}#sk-container-id-1 input.sk-toggleable__control:checked~label.sk-toggleable__label-arrow:before {content: \"▾\";}#sk-container-id-1 div.sk-estimator input.sk-toggleable__control:checked~label.sk-toggleable__label {background-color: #d4ebff;}#sk-container-id-1 div.sk-label input.sk-toggleable__control:checked~label.sk-toggleable__label {background-color: #d4ebff;}#sk-container-id-1 input.sk-hidden--visually {border: 0;clip: rect(1px 1px 1px 1px);clip: rect(1px, 1px, 1px, 1px);height: 1px;margin: -1px;overflow: hidden;padding: 0;position: absolute;width: 1px;}#sk-container-id-1 div.sk-estimator {font-family: monospace;background-color: #f0f8ff;border: 1px dotted black;border-radius: 0.25em;box-sizing: border-box;margin-bottom: 0.5em;}#sk-container-id-1 div.sk-estimator:hover {background-color: #d4ebff;}#sk-container-id-1 div.sk-parallel-item::after {content: \"\";width: 100%;border-bottom: 1px solid gray;flex-grow: 1;}#sk-container-id-1 div.sk-label:hover label.sk-toggleable__label {background-color: #d4ebff;}#sk-container-id-1 div.sk-serial::before {content: \"\";position: absolute;border-left: 1px solid gray;box-sizing: border-box;top: 0;bottom: 0;left: 50%;z-index: 0;}#sk-container-id-1 div.sk-serial {display: flex;flex-direction: column;align-items: center;background-color: white;padding-right: 0.2em;padding-left: 0.2em;position: relative;}#sk-container-id-1 div.sk-item {position: relative;z-index: 1;}#sk-container-id-1 div.sk-parallel {display: flex;align-items: stretch;justify-content: center;background-color: white;position: relative;}#sk-container-id-1 div.sk-item::before, #sk-container-id-1 div.sk-parallel-item::before {content: \"\";position: absolute;border-left: 1px solid gray;box-sizing: border-box;top: 0;bottom: 0;left: 50%;z-index: -1;}#sk-container-id-1 div.sk-parallel-item {display: flex;flex-direction: column;z-index: 1;position: relative;background-color: white;}#sk-container-id-1 div.sk-parallel-item:first-child::after {align-self: flex-end;width: 50%;}#sk-container-id-1 div.sk-parallel-item:last-child::after {align-self: flex-start;width: 50%;}#sk-container-id-1 div.sk-parallel-item:only-child::after {width: 0;}#sk-container-id-1 div.sk-dashed-wrapped {border: 1px dashed gray;margin: 0 0.4em 0.5em 0.4em;box-sizing: border-box;padding-bottom: 0.4em;background-color: white;}#sk-container-id-1 div.sk-label label {font-family: monospace;font-weight: bold;display: inline-block;line-height: 1.2em;}#sk-container-id-1 div.sk-label-container {text-align: center;}#sk-container-id-1 div.sk-container {/* jupyter's `normalize.less` sets `[hidden] { display: none; }` but bootstrap.min.css set `[hidden] { display: none !important; }` so we also need the `!important` here to be able to override the default hidden behavior on the sphinx rendered scikit-learn.org. See: https://github.com/scikit-learn/scikit-learn/issues/21755 */display: inline-block !important;position: relative;}#sk-container-id-1 div.sk-text-repr-fallback {display: none;}</style><div id=\"sk-container-id-1\" class=\"sk-top-container\"><div class=\"sk-text-repr-fallback\"><pre>Pipeline(steps=[(&#x27;onehotencoder&#x27;, OneHotEncoder()), (&#x27;ridge&#x27;, Ridge())])</pre><b>In a Jupyter environment, please rerun this cell to show the HTML representation or trust the notebook. <br />On GitHub, the HTML representation is unable to render, please try loading this page with nbviewer.org.</b></div><div class=\"sk-container\" hidden><div class=\"sk-item sk-dashed-wrapped\"><div class=\"sk-label-container\"><div class=\"sk-label sk-toggleable\"><input class=\"sk-toggleable__control sk-hidden--visually\" id=\"sk-estimator-id-1\" type=\"checkbox\" ><label for=\"sk-estimator-id-1\" class=\"sk-toggleable__label sk-toggleable__label-arrow\">Pipeline</label><div class=\"sk-toggleable__content\"><pre>Pipeline(steps=[(&#x27;onehotencoder&#x27;, OneHotEncoder()), (&#x27;ridge&#x27;, Ridge())])</pre></div></div></div><div class=\"sk-serial\"><div class=\"sk-item\"><div class=\"sk-estimator sk-toggleable\"><input class=\"sk-toggleable__control sk-hidden--visually\" id=\"sk-estimator-id-2\" type=\"checkbox\" ><label for=\"sk-estimator-id-2\" class=\"sk-toggleable__label sk-toggleable__label-arrow\">OneHotEncoder</label><div class=\"sk-toggleable__content\"><pre>OneHotEncoder()</pre></div></div></div><div class=\"sk-item\"><div class=\"sk-estimator sk-toggleable\"><input class=\"sk-toggleable__control sk-hidden--visually\" id=\"sk-estimator-id-3\" type=\"checkbox\" ><label for=\"sk-estimator-id-3\" class=\"sk-toggleable__label sk-toggleable__label-arrow\">Ridge</label><div class=\"sk-toggleable__content\"><pre>Ridge()</pre></div></div></div></div></div></div></div>"
      ],
      "text/plain": [
       "Pipeline(steps=[('onehotencoder', OneHotEncoder()), ('ridge', Ridge())])"
      ]
     },
     "execution_count": 20,
     "metadata": {},
     "output_type": "execute_result"
    }
   ],
   "source": [
    "model = make_pipeline(\n",
    "    OneHotEncoder (),\n",
    "    Ridge()\n",
    ")\n",
    "model.fit(X_train, y_train)\n"
   ]
  },
  {
   "cell_type": "markdown",
   "id": "ad2b0e9b",
   "metadata": {},
   "source": [
    "### Evaluate "
   ]
  },
  {
   "cell_type": "code",
   "execution_count": 22,
   "id": "2ed5719d",
   "metadata": {},
   "outputs": [
    {
     "name": "stdout",
     "output_type": "stream",
     "text": [
      "Training MAE: 39373.06\n"
     ]
    }
   ],
   "source": [
    "y_pred_training = model.predict(X_train)\n",
    "print(\"Training MAE:\", mean_absolute_error(y_train, y_pred_training).round(2))"
   ]
  },
  {
   "cell_type": "raw",
   "id": "a8df6ac1",
   "metadata": {},
   "source": [
    "Good news: Our model beat the baseline by over $20,000! That's a good indicator that it will be helpful in predicting apartment prices."
   ]
  },
  {
   "cell_type": "markdown",
   "id": "324faf8c",
   "metadata": {},
   "source": [
    "# Communicate Result"
   ]
  },
  {
   "cell_type": "raw",
   "id": "648e2232",
   "metadata": {},
   "source": [
    "In communicating our result, we will deploy our model in 2 ways: \n",
    "    \n",
    "    1- Develop a function for a programmer to input values and receive a prediction as an output. \n",
    "    2- Create an interactive dashboard, where a user can supply values and receive a prediction."
   ]
  },
  {
   "cell_type": "code",
   "execution_count": 24,
   "id": "43ba3e0d",
   "metadata": {},
   "outputs": [],
   "source": [
    "# Function for any programmer \n",
    "\n",
    "def make_prediction(SquareFeet, YearBuilt):\n",
    "    data = {\n",
    "    \"SquareFeet\": SquareFeet,\n",
    "    \"YearBuilt\" : YearBuilt,\n",
    "    }\n",
    "    df=pd.DataFrame(data, index=[0])\n",
    "    prediction = model.predict (df).round(2)[0]\n",
    "    return f\"Predicted House Price: ${prediction}\""
   ]
  },
  {
   "cell_type": "code",
   "execution_count": 25,
   "id": "0db0a127",
   "metadata": {},
   "outputs": [
    {
     "data": {
      "text/plain": [
       "'Predicted House Price: $271775.54'"
      ]
     },
     "execution_count": 25,
     "metadata": {},
     "output_type": "execute_result"
    }
   ],
   "source": [
    "make_prediction(2459, 2010)"
   ]
  },
  {
   "cell_type": "code",
   "execution_count": 26,
   "id": "f11b9d4c",
   "metadata": {},
   "outputs": [
    {
     "data": {
      "application/vnd.jupyter.widget-view+json": {
       "model_id": "ec1044ca77194ed292dd014bf9d3ecb6",
       "version_major": 2,
       "version_minor": 0
      },
      "text/plain": [
       "interactive(children=(IntSlider(value=2006, description='SquareFeet', max=2999, min=1000), IntSlider(value=198…"
      ]
     },
     "metadata": {},
     "output_type": "display_data"
    }
   ],
   "source": [
    "# An interactive Dashboard for a user \n",
    "interact(\n",
    "    make_prediction,\n",
    "    SquareFeet=IntSlider(\n",
    "        min=X_train[\"SquareFeet\"].min(),\n",
    "        max=X_train[\"SquareFeet\"].max(),\n",
    "        value=X_train[\"SquareFeet\"].mean(),\n",
    "    ),\n",
    "    YearBuilt=IntSlider(\n",
    "        min=X_train[\"YearBuilt\"].min(),\n",
    "        max=X_train[\"YearBuilt\"].max(),\n",
    "        value=X_train[\"YearBuilt\"].mean()\n",
    "    )\n",
    ");"
   ]
  },
  {
   "cell_type": "code",
   "execution_count": null,
   "id": "15611ef3",
   "metadata": {},
   "outputs": [],
   "source": []
  }
 ],
 "metadata": {
  "kernelspec": {
   "display_name": "Python [conda env:anaconda3] *",
   "language": "python",
   "name": "conda-env-anaconda3-py"
  },
  "language_info": {
   "codemirror_mode": {
    "name": "ipython",
    "version": 3
   },
   "file_extension": ".py",
   "mimetype": "text/x-python",
   "name": "python",
   "nbconvert_exporter": "python",
   "pygments_lexer": "ipython3",
   "version": "3.11.5"
  }
 },
 "nbformat": 4,
 "nbformat_minor": 5
}
